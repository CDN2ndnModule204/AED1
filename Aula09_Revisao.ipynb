{
 "cells": [
  {
   "cell_type": "markdown",
   "metadata": {},
   "source": [
    "![Algoritmos e Estrutura de Dados I](AED1_banner.jpg)"
   ]
  },
  {
   "cell_type": "markdown",
   "metadata": {},
   "source": [
    "## <font color='blue'>Algoritmos e Estrutura de Dados I</font>\n",
    "## <font color='blue'>Aula 9 -  Revisão</font>"
   ]
  },
  {
   "cell_type": "code",
   "execution_count": null,
   "metadata": {},
   "outputs": [],
   "source": [
    "# Versão da Linguagem Python\n",
    "from platform import python_version\n",
    "print('Versão da Linguagem Python Usada Neste Jupyter Notebook:', python_version())"
   ]
  },
  {
   "cell_type": "markdown",
   "metadata": {},
   "source": [
    "## Estrutura sequencial"
   ]
  },
  {
   "cell_type": "markdown",
   "metadata": {},
   "source": [
    "Escreva um programa em Python que solicite ao usuário o valor de dois números, calcule e exiba a soma deles."
   ]
  },
  {
   "cell_type": "code",
   "execution_count": null,
   "metadata": {},
   "outputs": [],
   "source": [
    "\n"
   ]
  },
  {
   "attachments": {},
   "cell_type": "markdown",
   "metadata": {},
   "source": [
    "Escreva um programa em Python que solicite ao usuário a temperatura em graus Celsius e converta para Fahrenheit. A fórmula para conversão é F = C * 9/5 + 32.\n"
   ]
  },
  {
   "cell_type": "code",
   "execution_count": 30,
   "metadata": {},
   "outputs": [
    {
     "name": "stdin",
     "output_type": "stream",
     "text": [
      "Digite a temperatura em graus 2\n"
     ]
    },
    {
     "name": "stdout",
     "output_type": "stream",
     "text": [
      "2.0°.C é igual a 35.6°.F\n"
     ]
    }
   ],
   "source": [
    "celsius = float(input(\"Digite a temperatura em graus\"))\n",
    "Fare = ((celsius * 9) /5 )+32\n",
    "print(f\"{celsius}°.C é igual a {Fare}°.F\")\n"
   ]
  },
  {
   "cell_type": "markdown",
   "metadata": {},
   "source": [
    "## Estrutura Condicional"
   ]
  },
  {
   "cell_type": "markdown",
   "metadata": {},
   "source": [
    "Escreva um programa em Python que solicite ao usuário um número e verifique se ele é positivo, negativo ou zero. Exiba a mensagem correspondente.\n"
   ]
  },
  {
   "cell_type": "code",
   "execution_count": 6,
   "metadata": {},
   "outputs": [
    {
     "name": "stdin",
     "output_type": "stream",
     "text": [
      "Digite numero 4\n"
     ]
    },
    {
     "name": "stdout",
     "output_type": "stream",
     "text": [
      " O numero (numero) é positivo!\n"
     ]
    }
   ],
   "source": [
    "numero = float(input(\"Digite numero\"))\n",
    "if numero > 0:\n",
    "    print (f\" O numero (numero) é positivo!\")"
   ]
  },
  {
   "cell_type": "markdown",
   "metadata": {},
   "source": [
    "Escreva um programa em Python que solicite ao usuário três números e determine qual é o maior entre eles.\n"
   ]
  },
  {
   "cell_type": "code",
   "execution_count": 22,
   "metadata": {},
   "outputs": [
    {
     "ename": "IndentationError",
     "evalue": "unindent does not match any outer indentation level (<string>, line 10)",
     "output_type": "error",
     "traceback": [
      "\u001b[1;36m  File \u001b[1;32m<string>:10\u001b[1;36m\u001b[0m\n\u001b[1;33m    else\u001b[0m\n\u001b[1;37m        ^\u001b[0m\n\u001b[1;31mIndentationError\u001b[0m\u001b[1;31m:\u001b[0m unindent does not match any outer indentation level\n"
     ]
    }
   ],
   "source": [
    "n1= float(input(\"Digite o primeiro numero:\"))\n",
    "n2= float(input(\"Digite o segundo numero:\"))               \n",
    "n3= float(input(\"Digite o terceiro numero:\"))\n",
    "    if n1 > n2\n",
    "    if n1 > n3:\n",
    "        print (f\"{n1} é maior!\")\n",
    "else\n",
    "        \n",
    "\n",
    "    print (f\"{n3} é maior !\")\n",
    "else n2 > n3:\n",
    "    print(f\"{n2} é o maior!\")\n",
    " else\n",
    "    print(f\"{n3} é o maior!\")\n",
    "    "
   ]
  },
  {
   "cell_type": "markdown",
   "metadata": {},
   "source": [
    "## Estrutura de Repetição"
   ]
  },
  {
   "cell_type": "markdown",
   "metadata": {},
   "source": [
    "Escreva um programa em Python que exiba todos os números de 1 a 10.\n"
   ]
  },
  {
   "cell_type": "code",
   "execution_count": 27,
   "metadata": {},
   "outputs": [
    {
     "name": "stdin",
     "output_type": "stream",
     "text": [
      "Digite um Valor 0 a 9: 11\n"
     ]
    },
    {
     "name": "stdout",
     "output_type": "stream",
     "text": [
      "Digite um valor entre a e 9!\n"
     ]
    },
    {
     "name": "stdin",
     "output_type": "stream",
     "text": [
      "Digite um Valor 0 a 9: lua\n"
     ]
    },
    {
     "name": "stdout",
     "output_type": "stream",
     "text": [
      "O  Digitado não é um número! Repita!\n"
     ]
    },
    {
     "name": "stdin",
     "output_type": "stream",
     "text": [
      "Digite um Valor 0 a 9: 2\n"
     ]
    },
    {
     "name": "stdout",
     "output_type": "stream",
     "text": [
      " 1 x  2.0 =  2.0\n",
      " 2 x  2.0 =  4.0\n",
      " 3 x  2.0 =  6.0\n",
      " 4 x  2.0 =  8.0\n",
      " 5 x  2.0 = 10.0\n",
      " 6 x  2.0 = 12.0\n",
      " 7 x  2.0 = 14.0\n",
      " 8 x  2.0 = 16.0\n",
      " 9 x  2.0 = 18.0\n",
      "10 x  2.0 = 20.0\n"
     ]
    }
   ],
   "source": [
    "while True:\n",
    "    digitacao = input(\"Digite um Valor 0 a 9:\")\n",
    "    if digitacao.isnumeric():\n",
    "        numero = float(digitacao)\n",
    "        if numero>=1 and numero<=9:\n",
    "            break\n",
    "        else:\n",
    "            print(\"Digite um valor entre a e 9!\")\n",
    "    else:\n",
    "        print ( \"O  Digitado não é um número! Repita!\")\n",
    "for i in range(1, 11):\n",
    "    print (f\"{i:2d} x {numero:4.1f} = {(i*numero):4.1f}\")\n"
   ]
  },
  {
   "cell_type": "markdown",
   "metadata": {},
   "source": [
    "Escreva um programa em Python que solicite ao usuário um número inteiro positivo e calcule o fatorial desse número.\n"
   ]
  },
  {
   "cell_type": "code",
   "execution_count": null,
   "metadata": {},
   "outputs": [],
   "source": [
    "\n"
   ]
  },
  {
   "cell_type": "markdown",
   "metadata": {},
   "source": [
    "## Geral"
   ]
  },
  {
   "cell_type": "markdown",
   "metadata": {},
   "source": [
    "Você é um cientista de dados e precisa analisar as notas de um conjunto de estudantes em uma disciplina. Você deverá escrever um programa em Python que solicite ao usuário o número de estudantes e, em seguida, as notas desses estudantes. O programa deve calcular e exibir:\n",
    "\n",
    "- A média das notas.\n",
    "- A maior e a menor nota.\n",
    "- O número de estudantes aprovados (nota maior ou igual a 6) e reprovados (nota menor que 6).\n",
    "\n",
    "Regras:\n",
    "\n",
    "- Utilize variáveis simples para armazenar as informações.\n",
    "- Utilize estruturas de repetição para coletar as notas dos estudantes.\n",
    "- Utilize estruturas condicionais para determinar o status de aprovação dos estudantes."
   ]
  },
  {
   "cell_type": "code",
   "execution_count": null,
   "metadata": {},
   "outputs": [],
   "source": [
    "\n"
   ]
  },
  {
   "cell_type": "markdown",
   "metadata": {},
   "source": [
    "Faça um programa que receba um número inteiro positivo e transforme esse número para binário."
   ]
  },
  {
   "cell_type": "code",
   "execution_count": null,
   "metadata": {},
   "outputs": [],
   "source": []
  },
  {
   "cell_type": "markdown",
   "metadata": {},
   "source": [
    "## Fim da Aula 9"
   ]
  }
 ],
 "metadata": {
  "kernelspec": {
   "display_name": "Python 3 (ipykernel)",
   "language": "python",
   "name": "python3"
  },
  "language_info": {
   "codemirror_mode": {
    "name": "ipython",
    "version": 3
   },
   "file_extension": ".py",
   "mimetype": "text/x-python",
   "name": "python",
   "nbconvert_exporter": "python",
   "pygments_lexer": "ipython3",
   "version": "3.12.4"
  }
 },
 "nbformat": 4,
 "nbformat_minor": 4
}
